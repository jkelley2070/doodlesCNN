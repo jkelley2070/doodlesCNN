{
 "cells": [
  {
   "cell_type": "markdown",
   "metadata": {},
   "source": [
    "# Packages \n",
    "\n",
    "* PIL for images\n",
    "* torchvision for pytorch computer vision support \n",
    "* datasets -> loading dataset with huggingface dataset api\n",
    "* matplotlib for showing images\n",
    "* torch and its many packages and modules for nn\n",
    "* tqdm for progress bar when training and testing\n",
    "* numpy for math stuff\n",
    "* ray tune for hyperparameter otpimization\n",
    "* torch summary for model params count\n",
    "* typing for better clarity "
   ]
  },
  {
   "cell_type": "code",
   "execution_count": 1,
   "metadata": {},
   "outputs": [
    {
     "name": "stdout",
     "output_type": "stream",
     "text": [
      "\u001b[33mWARNING: You are using pip version 21.2.4; however, version 24.0 is available.\n",
      "You should consider upgrading via the '/Users/kelley/Desktop/drawAI/.env/bin/python3 -m pip install --upgrade pip' command.\u001b[0m\n"
     ]
    }
   ],
   "source": [
    "# install packages\n",
    "!pip -q install accelerate datasets evaluate torchvision Pillow 'transformers[torch]' tqdm ray tensorboardX torchmetrics torchsummary scikit-learn numpy torch matplotlib pandas"
   ]
  },
  {
   "cell_type": "code",
   "execution_count": 2,
   "metadata": {},
   "outputs": [
    {
     "name": "stderr",
     "output_type": "stream",
     "text": [
      "/Users/kelley/Desktop/drawAI/.env/lib/python3.9/site-packages/urllib3/__init__.py:35: NotOpenSSLWarning: urllib3 v2 only supports OpenSSL 1.1.1+, currently the 'ssl' module is compiled with 'LibreSSL 2.8.3'. See: https://github.com/urllib3/urllib3/issues/3020\n",
      "  warnings.warn(\n",
      "/Users/kelley/Desktop/drawAI/.env/lib/python3.9/site-packages/tqdm/auto.py:21: TqdmWarning: IProgress not found. Please update jupyter and ipywidgets. See https://ipywidgets.readthedocs.io/en/stable/user_install.html\n",
      "  from .autonotebook import tqdm as notebook_tqdm\n",
      "2024-04-26 21:31:54,608\tINFO util.py:159 -- Missing packages: ['ipywidgets']. Run `pip install -U ipywidgets`, then restart the notebook server for rich notebook output.\n",
      "2024-04-26 21:31:54,665\tINFO util.py:159 -- Missing packages: ['ipywidgets']. Run `pip install -U ipywidgets`, then restart the notebook server for rich notebook output.\n"
     ]
    }
   ],
   "source": [
    "from PIL import Image\n",
    "import torchvision.transforms as transforms\n",
    "import torch\n",
    "import torch.nn as nn\n",
    "import torch.optim as optim\n",
    "from datasets import load_dataset\n",
    "from torch.utils.data import Subset\n",
    "import matplotlib.pyplot as plt\n",
    "from tqdm import tqdm\n",
    "import numpy as np\n",
    "from torch.utils.data import DataLoader, Subset\n",
    "import random\n",
    "from ray import tune\n",
    "from tensorboardX import SummaryWriter\n",
    "from ray.tune.stopper import MaximumIterationStopper, TrialPlateauStopper\n",
    "from ray.tune.schedulers import ASHAScheduler\n",
    "from torchmetrics import AveragePrecision\n",
    "from sklearn.metrics import f1_score, precision_score, recall_score\n",
    "from torchsummary import summary\n",
    "from datasets import Dataset, DatasetDict\n",
    "from typing import List, Dict, Any\n",
    "import pandas as pd"
   ]
  },
  {
   "cell_type": "markdown",
   "metadata": {},
   "source": [
    "# Dataset infromation \n",
    "* 10% Subset of Google's 50 million quickdraw dataset \n",
    "    * training -> 4.5 million\n",
    "    * validation -> .5 million \n",
    "    * test ->.5 million\n",
    "* link -> https://huggingface.co/datasets/Xenova/quickdraw-small?row=0\n",
    "* 28 x 28 images of drawings \n",
    "* 345 labels \n"
   ]
  },
  {
   "cell_type": "code",
   "execution_count": 3,
   "metadata": {},
   "outputs": [
    {
     "name": "stdout",
     "output_type": "stream",
     "text": [
      "DatasetDict({\n",
      "    train: Dataset({\n",
      "        features: ['image', 'label'],\n",
      "        num_rows: 4500000\n",
      "    })\n",
      "    test: Dataset({\n",
      "        features: ['image', 'label'],\n",
      "        num_rows: 250000\n",
      "    })\n",
      "    valid: Dataset({\n",
      "        features: ['image', 'label'],\n",
      "        num_rows: 250000\n",
      "    })\n",
      "})\n"
     ]
    }
   ],
   "source": [
    "# mac gpu loading \n",
    "device = 'mps' if torch.backends.mps.is_available() else 'cpu'\n",
    "\n",
    "# loading dataset into huggign face dataset dictionary/object\n",
    "dataset:DatasetDict = load_dataset('Xenova/quickdraw-small')\n",
    "print(dataset)"
   ]
  },
  {
   "cell_type": "code",
   "execution_count": 4,
   "metadata": {},
   "outputs": [],
   "source": [
    "# 3 batches tested for each, previously generated with random\n",
    "# example\n",
    "# batcha_selected_classes_10  = random.sample(range(0, 344), 10)\n",
    "batcha_selected_classes_10 = [121, 162, 120, 211, 43, 185, 177, 171, 232, 322]\n",
    "batcha_selected_classes_50 = [143, 149, 306, 233, 107, 196, 129, 186, 22, 227, 16, 253, 199, 194, 333, 122, 297, 307, 217, 42, 251, 158, 324, 124, 334, 270, 165, 78, 214, 289, 69, 169, 206, 133, 278, 262, 298, 54, 115, 272, 110, 215, 209, 172, 328, 5, 207, 14, 9, 51]\n",
    "batchb_selected_classes_10 = [223, 60, 237, 51, 234, 94, 53, 161, 300, 320]\n",
    "batchb_selected_classes_50 = [148, 30, 79, 253, 18, 6, 141, 116, 150, 273, 68, 339, 262, 302, 197, 56, 333, 182, 265, 323, 101, 226, 308, 155, 171, 199, 25, 28, 48, 10, 342, 66, 104, 318, 185, 330, 263, 257, 35, 296, 70, 228, 272, 316, 42, 69, 233, 127, 217, 169]\n",
    "batchc_selected_classes_10 = [302, 323, 107, 312, 184, 235, 179, 146, 38, 149]\n",
    "batchc_selected_classes_50 = [248, 32, 60, 128, 290, 77, 49, 282, 95, 176, 193, 72, 189, 226, 100, 107, 304, 308, 14, 287, 35, 250, 111, 297, 291, 112, 62, 168, 136, 11, 323, 327, 239, 88, 159, 120, 257, 240, 24, 16, 148, 160, 40, 96, 155, 53, 280, 36, 64, 151]\n",
    "\n",
    "# pytorch must have labels 0 - x, so using dict to create mapping\n",
    "# i.e 121::0, 162:1, using this mapping later\n",
    "def create_label_mapping(selected_classes: List[int]) -> Dict[int, int]:\n",
    "    return {old_label: new_label for new_label, old_label in enumerate(selected_classes)}\n",
    "\n",
    "# function to create a flag in the dataset to filter based on\n",
    "# there are better ways to do this but trying to use pretrained models later\n",
    "# and want it as flexible as possible\n",
    "def transform_example(example: Dict[str, Any], selected_classes: List[int], label_mapping: Dict[int, int]) -> Dict[str, Any]:\n",
    "    if example['label'] in selected_classes:\n",
    "        return {'image': example['image'], 'label': label_mapping[example['label']], 'is_selected': True}\n",
    "    else:\n",
    "        return {'is_selected': False}\n",
    "\n",
    "\n",
    "# dictorying storing each diction\n",
    "datasets: Dict[str, DatasetDict[str, Dataset]] = {}\n",
    "\n",
    "# applying everything to all 6 batches \n",
    "for batch, selected_classes in [('batcha', batcha_selected_classes_10),\n",
    "                                ('batcha', batcha_selected_classes_50),\n",
    "                                ('batchb', batchb_selected_classes_10),\n",
    "                                ('batchb', batchb_selected_classes_50),\n",
    "                                ('batchc', batchc_selected_classes_10),\n",
    "                                ('batchc', batchc_selected_classes_50)]:\n",
    "    # getting the label mapping\n",
    "    label_mapping:Dict[int, int] = create_label_mapping(selected_classes)\n",
    "    # flagging and mapping labels each class\n",
    "    dataset_with_updated_labels: DatasetDict = dataset.map(lambda x: transform_example(x, selected_classes, label_mapping))\n",
    "    \n",
    "    # filtering classes that are flagged/selected\n",
    "    # very pythonic syntax cuz train, val, test splits \n",
    "    filtered_dataset: Dict[str, Dataset] = {split: ds.filter(lambda x: x['is_selected']) for split, ds in dataset_with_updated_labels.items()}\n",
    "    datasets[f\"{batch}_{len(selected_classes)}\"] = filtered_dataset\n"
   ]
  },
  {
   "cell_type": "markdown",
   "metadata": {},
   "source": [
    "# Data Pipeline \n",
    "\n",
    "- transforing dataset to tensors\n",
    "- storing everything in a dict \n",
    "- subsetting data based on batches "
   ]
  },
  {
   "cell_type": "code",
   "execution_count": 5,
   "metadata": {},
   "outputs": [],
   "source": [
    "def transform(dataset: DatasetDict) -> Dict[str, torch.Tensor]:\n",
    "    # pytorch preprocess\n",
    "    processor: transforms.Compose = transforms.Compose([\n",
    "        # augment stuff for later to see if it improves performance\n",
    "        # transforms.RandomHorizontalFlip(),\n",
    "        # transforms.RandomVerticalFlip(),\n",
    "        transforms.ToTensor(),  # range of values 0 - 1\n",
    "        transforms.Normalize((0.5,), (0.5,)),  # std .5, mean .5\n",
    "    ])\n",
    "    # convert each image to 3d numpy array then reshape into a (height, width)) tensor\n",
    "    images: List[torch.Tensor] = [processor(np.array(x).reshape(28, 28)) for x in dataset['image']]\n",
    "    # return dictionary containing single 3d tensor storing all images and 1d tensor for labels\n",
    "    return {'image': torch.stack(images), 'label': torch.tensor(dataset['label'])}"
   ]
  },
  {
   "cell_type": "markdown",
   "metadata": {},
   "source": [
    "## Subsetting data \n",
    "Original Data 4.5 Million rows 90/5/5 split\n",
    "Updated \n",
    "\n",
    "- 10 Classes: 100% Train. 100% Validation% 100% Testing\n",
    "\n",
    "- 50 Classes: 30% Train.  60% Validation% 60% Testing\n",
    "\n",
    "- 345 Classes: 25% Train. 50% Validation% 50% Testing\n",
    "\n",
    "- Using pytorch subset to do this!\n"
   ]
  },
  {
   "cell_type": "code",
   "execution_count": 6,
   "metadata": {},
   "outputs": [],
   "source": [
    "# BatchA 10 classes\n",
    "transformed_dataset_batcha_10 = {split: ds.with_transform(transform) for split, ds in datasets['batcha_10'].items()}\n",
    "\n",
    "subset_ratio = 1\n",
    "train_subset_size_batcha_10 = int(subset_ratio * len(transformed_dataset_batcha_10['train']))\n",
    "subset_train_dataset_batcha_10 = Subset(transformed_dataset_batcha_10['train'], range(train_subset_size_batcha_10))\n",
    "\n",
    "subset_ratio = 1\n",
    "val_subset_size_batcha_10 = int(subset_ratio * len(transformed_dataset_batcha_10['valid']))\n",
    "subset_validation_dataset_batcha_10 = Subset(transformed_dataset_batcha_10['valid'], range(val_subset_size_batcha_10))\n",
    "\n",
    "subset_ratio = 1\n",
    "test_subset_size_batcha_10 = int(subset_ratio * len(transformed_dataset_batcha_10['test']))\n",
    "subset_test_dataset_batcha_10 = Subset(transformed_dataset_batcha_10['test'], range(test_subset_size_batcha_10))\n",
    "\n",
    "train_loader_batcha_10 = DataLoader(subset_train_dataset_batcha_10, batch_size=16, shuffle=True)\n",
    "validation_loader_batcha_10 = DataLoader(subset_validation_dataset_batcha_10, batch_size=16, shuffle=False)\n",
    "test_loader_batcha_10 = DataLoader(subset_test_dataset_batcha_10, batch_size=16, shuffle=False)\n",
    "\n",
    "# BatchB 10 classes\n",
    "transformed_dataset_batchb_10 = {split: ds.with_transform(transform) for split, ds in datasets['batchb_10'].items()}\n",
    "\n",
    "subset_ratio = 1\n",
    "train_subset_size_batchb_10 = int(subset_ratio * len(transformed_dataset_batchb_10['train']))\n",
    "subset_train_dataset_batchb_10 = Subset(transformed_dataset_batchb_10['train'], range(train_subset_size_batchb_10))\n",
    "\n",
    "subset_ratio = 1\n",
    "val_subset_size_batchb_10 = int(subset_ratio * len(transformed_dataset_batchb_10['valid']))\n",
    "subset_validation_dataset_batchb_10 = Subset(transformed_dataset_batchb_10['valid'], range(val_subset_size_batchb_10))\n",
    "\n",
    "subset_ratio = 1\n",
    "test_subset_size_batchb_10 = int(subset_ratio * len(transformed_dataset_batchb_10['test']))\n",
    "subset_test_dataset_batchb_10 = Subset(transformed_dataset_batchb_10['test'], range(test_subset_size_batchb_10))\n",
    "\n",
    "train_loader_batchb_10 = DataLoader(subset_train_dataset_batchb_10, batch_size=16, shuffle=True)\n",
    "validation_loader_batchb_10 = DataLoader(subset_validation_dataset_batchb_10, batch_size=16, shuffle=False)\n",
    "test_loader_batchb_10 = DataLoader(subset_test_dataset_batchb_10, batch_size=16, shuffle=False)\n",
    "\n",
    "# BatchC 10 classes\n",
    "transformed_dataset_batchc_10 = {split: ds.with_transform(transform) for split, ds in datasets['batchc_10'].items()}\n",
    "\n",
    "subset_ratio = 1\n",
    "train_subset_size_batchc_10 = int(subset_ratio * len(transformed_dataset_batchc_10['train']))\n",
    "subset_train_dataset_batchc_10 = Subset(transformed_dataset_batchc_10['train'], range(train_subset_size_batchc_10))\n",
    "\n",
    "subset_ratio = 1\n",
    "val_subset_size_batchc_10 = int(subset_ratio * len(transformed_dataset_batchc_10['valid']))\n",
    "subset_validation_dataset_batchc_10 = Subset(transformed_dataset_batchc_10['valid'], range(val_subset_size_batchc_10))\n",
    "\n",
    "subset_ratio = 1\n",
    "test_subset_size_batchc_10 = int(subset_ratio * len(transformed_dataset_batchc_10['test']))\n",
    "subset_test_dataset_batchc_10 = Subset(transformed_dataset_batchc_10['test'], range(test_subset_size_batchc_10))\n",
    "\n",
    "train_loader_batchc_10 = DataLoader(subset_train_dataset_batchc_10, batch_size=16, shuffle=True)\n",
    "validation_loader_batchc_10 = DataLoader(subset_validation_dataset_batchc_10, batch_size=16, shuffle=False)\n",
    "test_loader_batchc_10 = DataLoader(subset_test_dataset_batchc_10, batch_size=16, shuffle=False)\n",
    "\n",
    "# BatchA 50 classes\n",
    "transformed_dataset_batcha_50 = {split: ds.with_transform(transform) for split, ds in datasets['batcha_50'].items()}\n",
    "\n",
    "subset_ratio = 0.6\n",
    "train_subset_size_batcha_50 = int(subset_ratio * len(transformed_dataset_batcha_50['train']))\n",
    "subset_train_dataset_batcha_50 = Subset(transformed_dataset_batcha_50['train'], range(train_subset_size_batcha_50))\n",
    "\n",
    "subset_ratio = 0.3\n",
    "val_subset_size_batcha_50 = int(subset_ratio * len(transformed_dataset_batcha_50['valid']))\n",
    "subset_validation_dataset_batcha_50 = Subset(transformed_dataset_batcha_50['valid'], range(val_subset_size_batcha_50))\n",
    "\n",
    "subset_ratio = 0.3\n",
    "test_subset_size_batcha_50 = int(subset_ratio * len(transformed_dataset_batcha_50['test']))\n",
    "subset_test_dataset_batcha_50 = Subset(transformed_dataset_batcha_50['test'], range(test_subset_size_batcha_50))\n",
    "\n",
    "train_loader_batcha_50 = DataLoader(subset_train_dataset_batcha_50, batch_size=16, shuffle=True)\n",
    "validation_loader_batcha_50 = DataLoader(subset_validation_dataset_batcha_50, batch_size=16, shuffle=False)\n",
    "test_loader_batcha_50 = DataLoader(subset_test_dataset_batcha_50, batch_size=16, shuffle=False)\n",
    "\n",
    "# BatchB 50 classes\n",
    "transformed_dataset_batchb_50 = {split: ds.with_transform(transform) for split, ds in datasets['batchb_50'].items()}\n",
    "\n",
    "subset_ratio = 0.6\n",
    "train_subset_size_batchb_50 = int(subset_ratio * len(transformed_dataset_batchb_50['train']))\n",
    "subset_train_dataset_batchb_50 = Subset(transformed_dataset_batchb_50['train'], range(train_subset_size_batchb_50))\n",
    "\n",
    "subset_ratio = 0.3\n",
    "val_subset_size_batchb_50 = int(subset_ratio * len(transformed_dataset_batchb_50['valid']))\n",
    "subset_validation_dataset_batchb_50 = Subset(transformed_dataset_batchb_50['valid'], range(val_subset_size_batchb_50))\n",
    "\n",
    "subset_ratio = 0.3\n",
    "test_subset_size_batchb_50 = int(subset_ratio * len(transformed_dataset_batchb_50['test']))\n",
    "subset_test_dataset_batchb_50 = Subset(transformed_dataset_batchb_50['test'], range(test_subset_size_batchb_50))\n",
    "\n",
    "train_loader_batchb_50 = DataLoader(subset_train_dataset_batchb_50, batch_size=16, shuffle=True)\n",
    "validation_loader_batchb_50 = DataLoader(subset_validation_dataset_batchb_50, batch_size=16, shuffle=False)\n",
    "test_loader_batchb_50 = DataLoader(subset_test_dataset_batchb_50, batch_size=16, shuffle=False)\n",
    "\n",
    "# BatchC 50 classes\n",
    "transformed_dataset_batchc_50 = {split: ds.with_transform(transform) for split, ds in datasets['batchc_50'].items()}\n",
    "\n",
    "subset_ratio = 0.6\n",
    "train_subset_size_batchc_50 = int(subset_ratio * len(transformed_dataset_batchc_50['train']))\n",
    "subset_train_dataset_batchc_50 = Subset(transformed_dataset_batchc_50['train'], range(train_subset_size_batchc_50))\n",
    "\n",
    "subset_ratio = 0.3\n",
    "val_subset_size_batchc_50 = int(subset_ratio * len(transformed_dataset_batchc_50['valid']))\n",
    "subset_validation_dataset_batchc_50 = Subset(transformed_dataset_batchc_50['valid'], range(val_subset_size_batchc_50))\n",
    "\n",
    "subset_ratio = 0.3\n",
    "test_subset_size_batchc_50 = int(subset_ratio * len(transformed_dataset_batchc_50['test']))\n",
    "subset_test_dataset_batchc_50 = Subset(transformed_dataset_batchc_50['test'], range(test_subset_size_batchc_50))\n",
    "\n",
    "train_loader_batchc_50 = DataLoader(subset_train_dataset_batchc_50, batch_size=8, shuffle=True)\n",
    "validation_loader_batchc_50 = DataLoader(subset_validation_dataset_batchc_50, batch_size=8, shuffle=False)\n",
    "test_loader_batchc_50 = DataLoader(subset_test_dataset_batchc_50, batch_size=8, shuffle=False)\n",
    "\n",
    "transformed_dataset = {split: ds.with_transform(transform) for split, ds in dataset.items()}\n",
    "# subset selected\n",
    "train_subset_size_345 = int(0.25 * len(transformed_dataset['train']))\n",
    "subset_train_dataset_345 = Subset(transformed_dataset['train'], range(train_subset_size_345))\n",
    "\n",
    "val_subset_size_345 = int(0.50 * len(transformed_dataset['valid']))\n",
    "subset_validation_dataset_345 = Subset(transformed_dataset['valid'], range(val_subset_size_345))\n",
    "\n",
    "test_subset_size_345 = int(0.50 * len(transformed_dataset['test']))\n",
    "subset_test_dataset_345 = Subset(transformed_dataset['test'], range(test_subset_size_345))\n",
    "\n",
    "train_loader_345 = DataLoader(subset_train_dataset_345, batch_size=16, shuffle=True)\n",
    "validation_loader_345 = DataLoader(subset_validation_dataset_345, batch_size=16, shuffle=False)\n",
    "test_loader_345 = DataLoader(subset_test_dataset_345, batch_size=16, shuffle=False)"
   ]
  },
  {
   "cell_type": "markdown",
   "metadata": {},
   "source": [
    "# Loading Pretrained Models\n",
    "- bestCNN model can be found in CNN_models.py\n",
    "- 7 sets of all weights stored in /weights/"
   ]
  },
  {
   "cell_type": "code",
   "execution_count": 7,
   "metadata": {},
   "outputs": [
    {
     "data": {
      "text/plain": [
       "bestCNN(\n",
       "  (conv1): Conv2d(1, 32, kernel_size=(3, 3), stride=(1, 1), padding=same, bias=False)\n",
       "  (bn1): BatchNorm2d(32, eps=1e-05, momentum=0.1, affine=True, track_running_stats=True)\n",
       "  (conv2): Conv2d(32, 32, kernel_size=(3, 3), stride=(1, 1), padding=same, bias=False)\n",
       "  (bn2): BatchNorm2d(32, eps=1e-05, momentum=0.1, affine=True, track_running_stats=True)\n",
       "  (pool1): MaxPool2d(kernel_size=2, stride=2, padding=0, dilation=1, ceil_mode=False)\n",
       "  (dropout1): Dropout(p=0.1, inplace=False)\n",
       "  (conv3): Conv2d(32, 64, kernel_size=(3, 3), stride=(1, 1), padding=same, bias=False)\n",
       "  (bn3): BatchNorm2d(64, eps=1e-05, momentum=0.1, affine=True, track_running_stats=True)\n",
       "  (conv4): Conv2d(64, 64, kernel_size=(3, 3), stride=(1, 1), padding=same, bias=False)\n",
       "  (bn4): BatchNorm2d(64, eps=1e-05, momentum=0.1, affine=True, track_running_stats=True)\n",
       "  (pool2): MaxPool2d(kernel_size=2, stride=2, padding=0, dilation=1, ceil_mode=False)\n",
       "  (dropout2): Dropout(p=0.1, inplace=False)\n",
       "  (conv5): Conv2d(64, 128, kernel_size=(3, 3), stride=(1, 1), padding=same, bias=False)\n",
       "  (bn5): BatchNorm2d(128, eps=1e-05, momentum=0.1, affine=True, track_running_stats=True)\n",
       "  (conv6): Conv2d(128, 128, kernel_size=(3, 3), stride=(1, 1), padding=same, bias=False)\n",
       "  (bn6): BatchNorm2d(128, eps=1e-05, momentum=0.1, affine=True, track_running_stats=True)\n",
       "  (pool3): MaxPool2d(kernel_size=2, stride=2, padding=0, dilation=1, ceil_mode=False)\n",
       "  (dropout3): Dropout(p=0.1, inplace=False)\n",
       "  (flatten): Flatten(start_dim=1, end_dim=-1)\n",
       "  (fc1): Linear(in_features=1152, out_features=256, bias=True)\n",
       "  (fc2): Linear(in_features=256, out_features=345, bias=True)\n",
       "  (relu): ReLU()\n",
       "  (sigmoid): Sigmoid()\n",
       "  (dropout4): Dropout(p=0.3, inplace=False)\n",
       ")"
      ]
     },
     "execution_count": 7,
     "metadata": {},
     "output_type": "execute_result"
    }
   ],
   "source": [
    "from CNN_models import bestCNN\n",
    "model_batcha_10 = bestCNN(10)\n",
    "weights = torch.load('weights/batcha_10', map_location=device)\n",
    "model_batcha_10.load_state_dict(weights)\n",
    "model_batcha_10.to(device)\n",
    "model_batcha_10.eval()\n",
    "\n",
    "model_batchb_10 = bestCNN(10)\n",
    "weights = torch.load('weights/batchb_10', map_location=device)\n",
    "model_batchb_10.load_state_dict(weights)\n",
    "model_batchb_10.to(device)\n",
    "model_batchb_10.eval()\n",
    "\n",
    "model_batchc_10 = bestCNN(10)\n",
    "weights = torch.load('weights/batchc_10', map_location=device)\n",
    "model_batchc_10.load_state_dict(weights)\n",
    "model_batchc_10.to(device)\n",
    "model_batchc_10.eval()\n",
    "\n",
    "model_batcha_50 = bestCNN(50)\n",
    "weights = torch.load('weights/batcha_50', map_location=device)\n",
    "model_batcha_50.load_state_dict(weights)\n",
    "model_batcha_50.to(device)\n",
    "model_batcha_50.eval()\n",
    "\n",
    "model_batchb_50 = bestCNN(50)\n",
    "weights = torch.load('weights/batchb_50', map_location=device)\n",
    "model_batchb_50.load_state_dict(weights)\n",
    "model_batchb_50.to(device)\n",
    "model_batchb_50.eval()\n",
    "\n",
    "model_batchc_50 = bestCNN(50)\n",
    "weights = torch.load('weights/batchc_50', map_location=device)\n",
    "model_batchc_50.load_state_dict(weights)\n",
    "model_batchc_50.to(device)\n",
    "model_batchc_50.eval()\n",
    "\n",
    "model = bestCNN(345)\n",
    "weights = torch.load('weights/weights345', map_location=device)\n",
    "model.load_state_dict(weights)\n",
    "model.to(device)\n",
    "model.eval()\n"
   ]
  },
  {
   "cell_type": "code",
   "execution_count": 8,
   "metadata": {},
   "outputs": [
    {
     "name": "stdout",
     "output_type": "stream",
     "text": [
      "670713\n"
     ]
    }
   ],
   "source": [
    "# priting number of params\n",
    "total_params = sum(p.numel() for p in model.parameters())\n",
    "print(total_params)"
   ]
  },
  {
   "cell_type": "markdown",
   "metadata": {},
   "source": [
    "# Running the model "
   ]
  },
  {
   "cell_type": "code",
   "execution_count": 9,
   "metadata": {},
   "outputs": [],
   "source": [
    "def test_model(model, test_loader, criterion, device):\n",
    "    model.eval()\n",
    "    val_loss = 0.0\n",
    "    correct_top1 = 0\n",
    "    correct_top3 = 0\n",
    "    total = 0\n",
    "    preds_list = []\n",
    "    labels_list = []\n",
    "\n",
    "    with torch.no_grad():\n",
    "        for batch in test_loader:\n",
    "            images = batch['image'].to(device)\n",
    "            labels = batch['label'].to(device)\n",
    "\n",
    "            # forward pass\n",
    "            preds = model(images)\n",
    "            probs = torch.softmax(preds, dim=1)\n",
    "            loss = criterion(preds, labels)\n",
    "            val_loss += loss.item()\n",
    "\n",
    "            # first prediction correct\n",
    "            _, predicted_top1 = torch.max(preds.data, 1)\n",
    "            # third prediction correct\n",
    "            _, predicted_top3 = torch.topk(preds.data, 3, dim=1)\n",
    "            total += labels.size(0)\n",
    "            preds_list.append(probs)\n",
    "            labels_list.append(labels)\n",
    "\n",
    "            # getting totals for correct guesses\n",
    "            correct_top1 += (predicted_top1 == labels).sum().item()\n",
    "            correct_top3 += (predicted_top3 == labels.unsqueeze(1)).any(dim=1).sum().item()\n",
    "\n",
    "    preds_tensor = torch.cat(preds_list, dim=0)\n",
    "    labels_tensor = torch.cat(labels_list, dim=0)\n",
    "\n",
    "    # final stats\n",
    "    val_loss /= len(test_loader)\n",
    "    val_accuracy_top1 = correct_top1 / total\n",
    "    val_accuracy_top3 = correct_top3 / total\n",
    "\n",
    "    # calculate additional metrics\n",
    "    preds_top1 = torch.argmax(preds_tensor, dim=1).cpu().numpy()\n",
    "    labels_numpy = labels_tensor.cpu().numpy()\n",
    "\n",
    "    # ensure labels_numpy and preds_top1 have the same shape\n",
    "    if labels_numpy.ndim == 2 and labels_numpy.shape[1] == 1:\n",
    "        labels_numpy = labels_numpy.squeeze()\n",
    "\n",
    "    f1 = f1_score(labels_numpy, preds_top1, average='weighted')\n",
    "    precision = precision_score(labels_numpy, preds_top1, average='weighted')\n",
    "    recall = recall_score(labels_numpy, preds_top1, average='weighted')\n",
    "\n",
    "    results = {\n",
    "        'Top-1 Accuracy': val_accuracy_top1,\n",
    "        'Top-3 Accuracy': val_accuracy_top3,\n",
    "        'Validation Loss': val_loss,\n",
    "        'F1 Score': f1,\n",
    "        'Precision': precision,\n",
    "        'Recall': recall\n",
    "    }\n",
    "\n",
    "    return results"
   ]
  },
  {
   "cell_type": "code",
   "execution_count": 10,
   "metadata": {},
   "outputs": [],
   "source": [
    "criterion = nn.CrossEntropyLoss()\n",
    "\n",
    "# Test models\n",
    "results = []\n",
    "\n",
    "results.append(test_model(model_batcha_10, test_loader_batcha_10, criterion, device))\n",
    "results.append(test_model(model_batchb_10, test_loader_batchb_10, criterion, device))\n",
    "results.append(test_model(model_batchc_10, test_loader_batchc_10, criterion, device))\n",
    "results.append(test_model(model_batcha_50, test_loader_batcha_50, criterion, device))\n",
    "results.append(test_model(model_batchb_50, test_loader_batchb_50, criterion, device))\n",
    "results.append(test_model(model_batchc_50, test_loader_batchc_50, criterion, device))\n",
    "results.append(test_model(model, test_loader_345, criterion, device))\n",
    "# Print results\n",
    "model_names = ['model_batcha_10', 'model_batchb_10', 'model_batchc_10',\n",
    "               'model_batcha_50', 'model_batchb_50', 'model_batchc_50', 'model']"
   ]
  },
  {
   "cell_type": "markdown",
   "metadata": {},
   "source": [
    "## Turning predicitons into df "
   ]
  },
  {
   "cell_type": "code",
   "execution_count": 49,
   "metadata": {},
   "outputs": [
    {
     "name": "stdout",
     "output_type": "stream",
     "text": [
      "             Model  Top-1 Accuracy  Top-3 Accuracy  Validation Loss  F1 Score  \\\n",
      "0  model_batcha_10        0.950682        0.984027         0.175686  0.950580   \n",
      "1  model_batchb_10        0.934496        0.981627         0.216362  0.934482   \n",
      "2  model_batchc_10        0.961265        0.985638         0.140442  0.961456   \n",
      "3  model_batcha_50        0.882127        0.951503         0.444809  0.882622   \n",
      "4  model_batchb_50        0.854732        0.937960         0.552824  0.856742   \n",
      "5  model_batchc_50        0.865038        0.943061         0.519076  0.865089   \n",
      "6            model        0.687448        0.851096         1.281081  0.685069   \n",
      "\n",
      "   Precision    Recall  \n",
      "0   0.951272  0.950682  \n",
      "1   0.934890  0.934496  \n",
      "2   0.962159  0.961265  \n",
      "3   0.885943  0.882127  \n",
      "4   0.862765  0.854732  \n",
      "5   0.869244  0.865038  \n",
      "6   0.697980  0.687448  \n"
     ]
    }
   ],
   "source": [
    "df_results = pd.DataFrame(results)\n",
    "df = df_results.copy()\n",
    "df.insert(0, 'Model', model_names)\n",
    "print(df.head(7))"
   ]
  },
  {
   "cell_type": "markdown",
   "metadata": {},
   "source": [
    "Getting average of each batch"
   ]
  },
  {
   "cell_type": "code",
   "execution_count": 50,
   "metadata": {},
   "outputs": [
    {
     "name": "stdout",
     "output_type": "stream",
     "text": [
      "             Model  Top-1 Accuracy  Top-3 Accuracy  Validation Loss  F1 Score  \\\n",
      "0  model_batcha_10        0.950682        0.984027         0.175686  0.950580   \n",
      "1  model_batchb_10        0.934496        0.981627         0.216362  0.934482   \n",
      "2  model_batchc_10        0.961265        0.985638         0.140442  0.961456   \n",
      "3  model_batcha_50        0.882127        0.951503         0.444809  0.882622   \n",
      "4  model_batchb_50        0.854732        0.937960         0.552824  0.856742   \n",
      "5  model_batchc_50        0.865038        0.943061         0.519076  0.865089   \n",
      "6            model        0.687448        0.851096         1.281081  0.685069   \n",
      "7       Average_10        0.948814        0.983764         0.177497  0.948839   \n",
      "8       Average_50        0.867299        0.944175         0.505570  0.868151   \n",
      "\n",
      "   Precision    Recall  \n",
      "0   0.951272  0.950682  \n",
      "1   0.934890  0.934496  \n",
      "2   0.962159  0.961265  \n",
      "3   0.885943  0.882127  \n",
      "4   0.862765  0.854732  \n",
      "5   0.869244  0.865038  \n",
      "6   0.697980  0.687448  \n",
      "7   0.949440  0.948814  \n",
      "8   0.872651  0.867299  \n"
     ]
    }
   ],
   "source": [
    "avg_10 = df[df['Model'].str.contains(\"10\")].iloc[:, 1:].mean()\n",
    "avg_50 = df[df['Model'].str.contains(\"50\")].iloc[:, 1:].mean()\n",
    "\n",
    "# creating new rows\n",
    "new_row_10 = pd.Series([\"Average_10\"] + avg_10.tolist(), index=df.columns)\n",
    "new_row_50 = pd.Series([\"Average_50\"] + avg_50.tolist(), index=df.columns)\n",
    "\n",
    "# appending to old\n",
    "df = pd.concat([df, pd.DataFrame([new_row_10, new_row_50])], ignore_index=True)\n",
    "\n",
    "# displau\n",
    "print(df)"
   ]
  },
  {
   "cell_type": "code",
   "execution_count": 51,
   "metadata": {},
   "outputs": [],
   "source": [
    "# converting to csv!\n",
    "df.to_csv(\"final_testing.csv\")"
   ]
  },
  {
   "cell_type": "markdown",
   "metadata": {},
   "source": [
    "### Plotting results"
   ]
  },
  {
   "cell_type": "code",
   "execution_count": 52,
   "metadata": {},
   "outputs": [
    {
     "data": {
      "image/png": "[encoded data removed]",
      "text/plain": [
       "<Figure size 1500x600 with 1 Axes>"
      ]
     },
     "metadata": {},
     "output_type": "display_data"
    },
    {
     "data": {
      "image/png": "[encoded data removed]",
      "text/plain": [
       "<Figure size 1500x600 with 1 Axes>"
      ]
     },
     "metadata": {},
     "output_type": "display_data"
    }
   ],
   "source": [
    "df = df.iloc[-3:, :]\n",
    "fig, ax = plt.subplots(figsize=(15, 6))\n",
    "\n",
    "x = np.arange(len(df))\n",
    "width = 0.35\n",
    "\n",
    "for i, metric in enumerate(df.columns[1:]):\n",
    "    ax.plot(x, df[metric], label=metric)\n",
    "    ax.scatter(x, df[metric], marker='o')\n",
    "\n",
    "ax.set_xticks(x)\n",
    "ax.set_xticklabels(df['Model'])\n",
    "ax.legend()\n",
    "ax.set_title('Model Performance Comparison')\n",
    "ax.set_ylabel('Metric Value')\n",
    "plt.xticks(rotation=90)\n",
    "plt.show()\n",
    "\n",
    "# Bar plot\n",
    "fig, ax = plt.subplots(figsize=(15, 6))\n",
    "\n",
    "for i, metric in enumerate(df.columns[1:]):\n",
    "    ax.bar(x - width/2 + i*width/len(df.columns[1:]), df[metric], width=width/len(df.columns[1:]), label=metric)\n",
    "\n",
    "ax.set_xticks(x)\n",
    "ax.set_xticklabels(df['Model'])\n",
    "ax.legend()\n",
    "ax.set_title('Model Performance Comparison')\n",
    "ax.set_ylabel('Metric Value')\n",
    "plt.xticks(rotation=90)\n",
    "plt.show()"
   ]
  }
 ],
 "metadata": {
  "kernelspec": {
   "display_name": "base",
   "language": "python",
   "name": "python3"
  },
  "language_info": {
   "codemirror_mode": {
    "name": "ipython",
    "version": 3
   },
   "file_extension": ".py",
   "mimetype": "text/x-python",
   "name": "python",
   "nbconvert_exporter": "python",
   "pygments_lexer": "ipython3",
   "version": "3.9.6"
  }
 },
 "nbformat": 4,
 "nbformat_minor": 2
}
